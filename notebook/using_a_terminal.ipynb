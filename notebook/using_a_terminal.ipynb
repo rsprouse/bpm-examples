{
 "cells": [
  {
   "cell_type": "markdown",
   "metadata": {},
   "source": [
    "# Using a terminal\n",
    "\n",
    "Many of the utilities provided in the BPM are accessed through the command line found in a terminal window. You open a terminal by clicking on its icon, which you will find on the menu bar next to the 'Applications' button in the upper left corner of the Desktop.\n",
    "\n",
    "<img src=\"images/terminal_icon.png\" alt=\"JupyterLab startup\">"
   ]
  },
  {
   "cell_type": "markdown",
   "metadata": {},
   "source": [
    "When the window opens it will look like the image below. Click in the window to start entering commands.\n",
    "\n",
    "<img src=\"images/terminal_window.png\" alt=\"JupyterLab startup\">\n"
   ]
  },
  {
   "cell_type": "markdown",
   "metadata": {},
   "source": [
    "## The bash shell\n",
    "\n",
    "BPM terminal windows run the bash shell by default. The shell provides a way to interact and run pro\n",
    "\n",
    "https://swcarpentry.github.io/shell-novice/reference/"
   ]
  },
  {
   "cell_type": "code",
   "execution_count": null,
   "metadata": {},
   "outputs": [],
   "source": []
  }
 ],
 "metadata": {
  "kernelspec": {
   "display_name": "Python 3",
   "language": "python",
   "name": "python3"
  },
  "language_info": {
   "codemirror_mode": {
    "name": "ipython",
    "version": 3
   },
   "file_extension": ".py",
   "mimetype": "text/x-python",
   "name": "python",
   "nbconvert_exporter": "python",
   "pygments_lexer": "ipython3",
   "version": "3.7.2"
  }
 },
 "nbformat": 4,
 "nbformat_minor": 2
}
