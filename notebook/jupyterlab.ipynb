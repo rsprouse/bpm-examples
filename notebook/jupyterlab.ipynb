{
 "cells": [
  {
   "cell_type": "markdown",
   "metadata": {},
   "source": [
    "# Keep a notebook with JupyterLab\n",
    "\n",
    "[JupyterLab](https://jupyterlab.readthedocs.io/en/latest/) describes itself as 'An extensible environment for interactive and reproducible computing, based on the Jupyter Notebook and Architecture.' It's a convenient way to explore and document your data, to develop algorithms, and to share your findings.\n",
    "\n",
    "A Jupyter notebook can be written in Python or R (other languages are possible but not installed in the BPM). If desired, you can mix languages in a single notebook and also execute system commands outside of the language environment."
   ]
  },
  {
   "cell_type": "markdown",
   "metadata": {},
   "source": [
    "## Getting started\n",
    "\n",
    "The first step to using JupyterLab is to start it up. [Open a terminal window](using_a_terminal.ipynb) in the BPM and give these commands:\n",
    "\n",
    "```bash\n",
    "mkdir /home/ubuntu/src/jlabdemo   # Create a directory for your notebooks\n",
    "cd /home/ubuntu/src/jlabdemo      # Make it the current working directory\n",
    "jupyter-lab                       # Start up JupyterLab\n",
    "```\n",
    "\n",
    "Notebooks you create will by default be saved in the working directory, in this case `/home/ubuntu/src/jlabdemo`.\n",
    "\n",
    "When JupyterLab launches a web browser window will open up and will look like the image below. The left sidebar displays files in the current working directory, and along the left edge are icons for 1) file browser; 2) running sessions; 3) command palette; and 4) tab switcher. The Launcher is in the right pane and is used to launch a new Python or R session. You can also launch a terminal session or text editor if you wish, or you can use the terminal windows and text editors already available in the BPM. (The terminal and text editor tools are very useful if you are running JupyterLab in the cloud.)\n",
    "\n",
    "<img src=\"images/jupyter_startup.png\" alt=\"JupyterLab startup\" width=\"600px\">\n",
    "\n",
    "\n"
   ]
  },
  {
   "cell_type": "markdown",
   "metadata": {},
   "source": [
    "## The JupyterLab interface\n",
    "\n",
    "For a fuller description of the elements of the JupyterLab interace, [see the documentation](https://jupyterlab.readthedocs.io/en/latest/user/interface.html)."
   ]
  },
  {
   "cell_type": "markdown",
   "metadata": {},
   "source": [
    "## Launch a notebook\n",
    "\n",
    "You can launch an existing notebook by double-clicking on it in the file browser. To create a new notebook, choose a language from the 'Notebook' section of the Launcher and click on its icon. The tab will be replaced with a notebook using the kernel language you selected. To create another new notebook, click on the '+' icon at the top of the file browser in the left sidebar.\n",
    "\n",
    "More information on notebooks is in the [JupyterLab documentation](https://jupyterlab.readthedocs.io/en/latest/user/notebook.html)."
   ]
  },
  {
   "cell_type": "markdown",
   "metadata": {},
   "source": [
    "## Collapsing cells\n",
    "\n",
    "A handy feature when working in notebooks is the ability to collapse a cell and/or its output. It is often the case that cell outputs or even the cell contents themselves that are not of current interest take up valuable screen space, and the collapse feature allows you to minimize the cell.\n",
    "\n",
    "Here is a cell and its output that take up a lot of screen height. Note the two blue lines on the left side of the image. The top one is a handle for the code cell, and the bottom one for the cell output.\n",
    "\n",
    "<img src=\"images/jupyter_expanded_cell.png\" alt=\"JupyterLab expanded cell\" width=\"600px\">\n",
    "\n",
    "Place the cursor over a blue line and click. The cell will collapse into the small vertical space indicated by the ellipsis. Here is the same notebook content with the cell output collapsed. Now you can see the content of the following cell.\n",
    "\n",
    "<img src=\"images/jupyter_collapsed_output.png\" alt=\"JupyterLab collapsed output\" width=\"600px\">\n",
    "\n",
    "Clicking on the collapsed blue line or the ellipsis will expand the cell output. The next image shows the cell itself collapsed, along with its output. The cells that precede and follow the collapsed cell are now both easily visible.\n",
    "\n",
    "<img src=\"images/jupyter_collapsed_cell.png\" alt=\"JupyterLab collapsed cell\" width=\"600px\">\n",
    "\n"
   ]
  },
  {
   "cell_type": "markdown",
   "metadata": {},
   "source": [
    "## The variable inspector\n",
    "\n",
    "The JupyterLab environment can be enhanced by extensions, and a useful one installed in the BPM is the Variable Inspector. To activate it, click on the command palette icon in the left sidebar and scroll to the bottom, as shown in the image. Click on the 'Open Variable Inspector' command to open the inspector in the workspace.\n",
    "\n",
    "<img src=\"images/jupyter_command_palette.png\" alt=\"JupyterLab command palette\">\n",
    "\n",
    "The Variable Inspector allows you to track the existence of variables in your workspace and displays a short summary of their types and values. Some examples are shown in the image below.\n",
    "\n",
    "<img src=\"images/jupyter_var_inspector.png\" alt=\"JupyterLab variable inspector\">\n",
    "\n",
    "The Variable Inspector can also display more complex data types. Try opening the Variable Inspector and then executing the cell below. Double click the `df` variable in the Inspector to get a deeper view of its contents."
   ]
  },
  {
   "cell_type": "code",
   "execution_count": 3,
   "metadata": {},
   "outputs": [],
   "source": [
    "import pandas as pd\n",
    "df = pd.DataFrame({'score': [1, 1, -1000000], 'names': ['blue', 'gold', 'red']})"
   ]
  },
  {
   "cell_type": "markdown",
   "metadata": {},
   "source": [
    "The result should look similar to the image below.\n",
    "\n",
    "<img src=\"images/jupyter_var_inspector_df.png\" alt=\"JupyterLab variable inspector DataFrame view\">"
   ]
  }
 ],
 "metadata": {
  "kernelspec": {
   "display_name": "Python 3",
   "language": "python",
   "name": "python3"
  },
  "language_info": {
   "codemirror_mode": {
    "name": "ipython",
    "version": 3
   },
   "file_extension": ".py",
   "mimetype": "text/x-python",
   "name": "python",
   "nbconvert_exporter": "python",
   "pygments_lexer": "ipython3",
   "version": "3.7.2"
  }
 },
 "nbformat": 4,
 "nbformat_minor": 2
}
