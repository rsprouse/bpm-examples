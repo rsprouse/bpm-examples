{
 "cells": [
  {
   "cell_type": "markdown",
   "metadata": {},
   "source": [
    "# Praat scripting with Parselmouth\n",
    "\n",
    "The [Parselmouth library](https://github.com/YannickJadoul/Parselmouth) provides a Python interface to Praat objects and algorithms. In essence, it is a useful way to write Praat scripts without leaving Python.\n",
    "\n",
    "Parselmouth is preinstalled on the BPM. To use it, import the library."
   ]
  },
  {
   "cell_type": "code",
   "execution_count": 1,
   "metadata": {},
   "outputs": [],
   "source": [
    "import parselmouth"
   ]
  },
  {
   "cell_type": "markdown",
   "metadata": {},
   "source": [
    "## Load a Sound object\n",
    "\n",
    "To load an audio file, instantiate a `Sound` object:"
   ]
  },
  {
   "cell_type": "code",
   "execution_count": 2,
   "metadata": {},
   "outputs": [
    {
     "data": {
      "text/plain": [
       "<parselmouth.Sound at 0x7fbb39aaa7d8>"
      ]
     },
     "execution_count": 2,
     "metadata": {},
     "output_type": "execute_result"
    }
   ],
   "source": [
    "snd = parselmouth.Sound('../resources/two_plus_two_22.wav')\n",
    "snd"
   ]
  },
  {
   "cell_type": "markdown",
   "metadata": {},
   "source": [
    "The commands normally found in the Praat Sound menu are mapped to Python methods. Here is a list."
   ]
  },
  {
   "cell_type": "code",
   "execution_count": 3,
   "metadata": {},
   "outputs": [
    {
     "name": "stdout",
     "output_type": "stream",
     "text": [
      "FileFormat\n",
      "ToHarmonicityMethod\n",
      "ToPitchMethod\n",
      "add\n",
      "as_array\n",
      "at_xy\n",
      "autocorrelate\n",
      "centre_time\n",
      "class_name\n",
      "combine_to_stereo\n",
      "concatenate\n",
      "convert_to_mono\n",
      "convert_to_stereo\n",
      "convolve\n",
      "copy\n",
      "cross_correlate\n",
      "de_emphasize\n",
      "deepen_band_modulation\n",
      "divide\n",
      "dt\n",
      "duration\n",
      "dx\n",
      "dy\n",
      "end_time\n",
      "extract_all_channels\n",
      "extract_channel\n",
      "extract_left_channel\n",
      "extract_part\n",
      "extract_part_for_overlap\n",
      "extract_right_channel\n",
      "formula\n",
      "frame_number_to_time\n",
      "full_name\n",
      "get_column_distance\n",
      "get_end_time\n",
      "get_energy\n",
      "get_energy_in_air\n",
      "get_frame_number_from_time\n",
      "get_highest_x\n",
      "get_highest_y\n",
      "get_index_from_time\n",
      "get_intensity\n",
      "get_lowest_x\n",
      "get_lowest_y\n",
      "get_maximum\n",
      "get_minimum\n",
      "get_nearest_zero_crossing\n",
      "get_number_of_channels\n",
      "get_number_of_columns\n",
      "get_number_of_frames\n",
      "get_number_of_rows\n",
      "get_number_of_samples\n",
      "get_power\n",
      "get_power_in_air\n",
      "get_rms\n",
      "get_root_mean_square\n",
      "get_row_distance\n",
      "get_sampling_frequency\n",
      "get_sampling_period\n",
      "get_start_time\n",
      "get_sum\n",
      "get_time_from_frame_number\n",
      "get_time_from_index\n",
      "get_time_step\n",
      "get_total_duration\n",
      "get_value\n",
      "get_value_at_xy\n",
      "get_value_in_cell\n",
      "get_x_of_column\n",
      "get_y_of_row\n",
      "lengthen\n",
      "multiply\n",
      "multiply_by_window\n",
      "n_channels\n",
      "n_columns\n",
      "n_frames\n",
      "n_rows\n",
      "n_samples\n",
      "name\n",
      "nt\n",
      "nx\n",
      "ny\n",
      "override_sampling_frequency\n",
      "pre_emphasize\n",
      "read\n",
      "resample\n",
      "reverse\n",
      "sampling_frequency\n",
      "sampling_period\n",
      "save\n",
      "save_as_binary_file\n",
      "save_as_headerless_spreadsheet_file\n",
      "save_as_matrix_text_file\n",
      "save_as_short_text_file\n",
      "save_as_text_file\n",
      "scale\n",
      "scale_intensity\n",
      "scale_peak\n",
      "scale_times_by\n",
      "scale_times_to\n",
      "scale_x_by\n",
      "scale_x_to\n",
      "set_to_zero\n",
      "set_value\n",
      "shift_times_by\n",
      "shift_times_to\n",
      "shift_x_by\n",
      "shift_x_to\n",
      "start_time\n",
      "subtract\n",
      "subtract_mean\n",
      "t1\n",
      "t_bins\n",
      "t_grid\n",
      "time_range\n",
      "time_step\n",
      "time_to_frame_number\n",
      "tmax\n",
      "tmin\n",
      "to_formant_burg\n",
      "to_harmonicity\n",
      "to_harmonicity_ac\n",
      "to_harmonicity_cc\n",
      "to_harmonicity_gne\n",
      "to_intensity\n",
      "to_mfcc\n",
      "to_pitch\n",
      "to_pitch_ac\n",
      "to_pitch_cc\n",
      "to_pitch_shs\n",
      "to_pitch_spinet\n",
      "to_spectrogram\n",
      "to_spectrum\n",
      "total_duration\n",
      "trange\n",
      "ts\n",
      "values\n",
      "x1\n",
      "x_bins\n",
      "x_grid\n",
      "xmax\n",
      "xmin\n",
      "xrange\n",
      "xs\n",
      "y1\n",
      "y_bins\n",
      "y_grid\n",
      "ymax\n",
      "ymin\n",
      "yrange\n",
      "ys\n"
     ]
    }
   ],
   "source": [
    "print('\\n'.join([name for name in dir(snd) if not name.startswith('_')]))"
   ]
  },
  {
   "cell_type": "markdown",
   "metadata": {},
   "source": [
    "Some of these methods return other kinds of Praat object, such as Spectrum."
   ]
  },
  {
   "cell_type": "code",
   "execution_count": 4,
   "metadata": {},
   "outputs": [
    {
     "data": {
      "text/plain": [
       "<parselmouth.Spectrum at 0x7fbb39aaaf48>"
      ]
     },
     "execution_count": 4,
     "metadata": {},
     "output_type": "execute_result"
    }
   ],
   "source": [
    "spec = snd.to_spectrum()\n",
    "spec"
   ]
  },
  {
   "cell_type": "markdown",
   "metadata": {},
   "source": [
    "The Spectrum object also maps Python functions to Praat's Spectrum commands."
   ]
  },
  {
   "cell_type": "code",
   "execution_count": 5,
   "metadata": {},
   "outputs": [
    {
     "name": "stdout",
     "output_type": "stream",
     "text": [
      "FileFormat\n",
      "as_array\n",
      "at_xy\n",
      "bin_width\n",
      "cepstral_smoothing\n",
      "class_name\n",
      "copy\n",
      "df\n",
      "dx\n",
      "dy\n",
      "fmax\n",
      "fmin\n",
      "formula\n",
      "full_name\n",
      "get_band_density\n",
      "get_band_density_difference\n",
      "get_band_energy\n",
      "get_band_energy_difference\n",
      "get_bin_number_from_frequency\n",
      "get_bin_width\n",
      "get_center_of_gravity\n",
      "get_central_moment\n",
      "get_centre_of_gravity\n",
      "get_column_distance\n",
      "get_frequency_from_bin_number\n",
      "get_highest_frequency\n",
      "get_highest_x\n",
      "get_highest_y\n",
      "get_imaginary_value_in_bin\n",
      "get_kurtosis\n",
      "get_lowest_frequency\n",
      "get_lowest_x\n",
      "get_lowest_y\n",
      "get_maximum\n",
      "get_minimum\n",
      "get_number_of_bins\n",
      "get_number_of_columns\n",
      "get_number_of_rows\n",
      "get_real_value_in_bin\n",
      "get_row_distance\n",
      "get_skewness\n",
      "get_standard_deviation\n",
      "get_sum\n",
      "get_value_at_xy\n",
      "get_value_in_bin\n",
      "get_value_in_cell\n",
      "get_x_of_column\n",
      "get_y_of_row\n",
      "highest_frequency\n",
      "lowest_frequency\n",
      "lpc_smoothing\n",
      "n_bins\n",
      "n_columns\n",
      "n_rows\n",
      "name\n",
      "nf\n",
      "nx\n",
      "ny\n",
      "read\n",
      "save\n",
      "save_as_binary_file\n",
      "save_as_headerless_spreadsheet_file\n",
      "save_as_matrix_text_file\n",
      "save_as_short_text_file\n",
      "save_as_text_file\n",
      "scale_x_by\n",
      "scale_x_to\n",
      "set_real_value_in_bin\n",
      "set_value\n",
      "shift_x_by\n",
      "shift_x_to\n",
      "to_sound\n",
      "to_spectrogram\n",
      "values\n",
      "x1\n",
      "x_bins\n",
      "x_grid\n",
      "xmax\n",
      "xmin\n",
      "xrange\n",
      "xs\n",
      "y1\n",
      "y_bins\n",
      "y_grid\n",
      "ymax\n",
      "ymin\n",
      "yrange\n",
      "ys\n"
     ]
    }
   ],
   "source": [
    "print('\\n'.join([name for name in dir(spec) if not name.startswith('_')]))"
   ]
  },
  {
   "cell_type": "markdown",
   "metadata": {},
   "source": [
    "## A short demo\n",
    "\n",
    "Here is a short example that demonstrates how to extract a portion of audio and calculate the spectral center of gravity for that portion.\n",
    "\n",
    "First we create a dataframe that contains (some of) the phones in the audio file already loaded."
   ]
  },
  {
   "cell_type": "code",
   "execution_count": 6,
   "metadata": {},
   "outputs": [
    {
     "data": {
      "text/html": [
       "<div>\n",
       "<style scoped>\n",
       "    .dataframe tbody tr th:only-of-type {\n",
       "        vertical-align: middle;\n",
       "    }\n",
       "\n",
       "    .dataframe tbody tr th {\n",
       "        vertical-align: top;\n",
       "    }\n",
       "\n",
       "    .dataframe thead th {\n",
       "        text-align: right;\n",
       "    }\n",
       "</style>\n",
       "<table border=\"1\" class=\"dataframe\">\n",
       "  <thead>\n",
       "    <tr style=\"text-align: right;\">\n",
       "      <th></th>\n",
       "      <th>t1</th>\n",
       "      <th>t2</th>\n",
       "      <th>label</th>\n",
       "    </tr>\n",
       "  </thead>\n",
       "  <tbody>\n",
       "    <tr>\n",
       "      <th>0</th>\n",
       "      <td>0.28</td>\n",
       "      <td>0.35</td>\n",
       "      <td>t</td>\n",
       "    </tr>\n",
       "    <tr>\n",
       "      <th>1</th>\n",
       "      <td>0.72</td>\n",
       "      <td>0.84</td>\n",
       "      <td>s</td>\n",
       "    </tr>\n",
       "    <tr>\n",
       "      <th>2</th>\n",
       "      <td>0.90</td>\n",
       "      <td>0.99</td>\n",
       "      <td>t</td>\n",
       "    </tr>\n",
       "  </tbody>\n",
       "</table>\n",
       "</div>"
      ],
      "text/plain": [
       "     t1    t2 label\n",
       "0  0.28  0.35     t\n",
       "1  0.72  0.84     s\n",
       "2  0.90  0.99     t"
      ]
     },
     "execution_count": 6,
     "metadata": {},
     "output_type": "execute_result"
    }
   ],
   "source": [
    "import pandas as pd\n",
    "phdf = pd.DataFrame(\n",
    "    {\n",
    "        't1': [0.28, 0.72, 0.90],\n",
    "        't2': [0.35, 0.84, 0.99],\n",
    "        'label': ['t', 's', 't']\n",
    "    }\n",
    ")\n",
    "phdf"
   ]
  },
  {
   "cell_type": "markdown",
   "metadata": {},
   "source": [
    "The `t1` times indicate the beginnings of the stop burst/fricative, and `t2` indicates the end. The next cell extracts center of gravity measures from the stop bursts of the [t] tokens."
   ]
  },
  {
   "cell_type": "code",
   "execution_count": 7,
   "metadata": {},
   "outputs": [
    {
     "data": {
      "text/plain": [
       "0    2457.509169\n",
       "2    3380.582391\n",
       "dtype: float64"
      ]
     },
     "execution_count": 7,
     "metadata": {},
     "output_type": "execute_result"
    }
   ],
   "source": [
    "def get_cog(phone, s):\n",
    "    '''Extract audio from s based on phone's t1 and t2 and return spectral\n",
    "    center of gravity.'''\n",
    "    return s.extract_part(phone.t1, phone.t2) \\\n",
    "            .to_spectrum() \\\n",
    "            .get_center_of_gravity()\n",
    "\n",
    "meas = phdf[phdf.label == 't'].apply(lambda ph: get_cog(ph, snd), axis=1)\n",
    "meas"
   ]
  },
  {
   "cell_type": "markdown",
   "metadata": {},
   "source": [
    "Merge the measurements with the phone set. Notice that `apply` tracked indexes for us, and we can simply `assign` a new column to the dataframe. The measurements are assigned according to the index, and missing measurements are assigned NaN."
   ]
  },
  {
   "cell_type": "code",
   "execution_count": 8,
   "metadata": {},
   "outputs": [
    {
     "data": {
      "text/html": [
       "<div>\n",
       "<style scoped>\n",
       "    .dataframe tbody tr th:only-of-type {\n",
       "        vertical-align: middle;\n",
       "    }\n",
       "\n",
       "    .dataframe tbody tr th {\n",
       "        vertical-align: top;\n",
       "    }\n",
       "\n",
       "    .dataframe thead th {\n",
       "        text-align: right;\n",
       "    }\n",
       "</style>\n",
       "<table border=\"1\" class=\"dataframe\">\n",
       "  <thead>\n",
       "    <tr style=\"text-align: right;\">\n",
       "      <th></th>\n",
       "      <th>t1</th>\n",
       "      <th>t2</th>\n",
       "      <th>label</th>\n",
       "      <th>cog</th>\n",
       "    </tr>\n",
       "  </thead>\n",
       "  <tbody>\n",
       "    <tr>\n",
       "      <th>0</th>\n",
       "      <td>0.28</td>\n",
       "      <td>0.35</td>\n",
       "      <td>t</td>\n",
       "      <td>2457.509169</td>\n",
       "    </tr>\n",
       "    <tr>\n",
       "      <th>1</th>\n",
       "      <td>0.72</td>\n",
       "      <td>0.84</td>\n",
       "      <td>s</td>\n",
       "      <td>NaN</td>\n",
       "    </tr>\n",
       "    <tr>\n",
       "      <th>2</th>\n",
       "      <td>0.90</td>\n",
       "      <td>0.99</td>\n",
       "      <td>t</td>\n",
       "      <td>3380.582391</td>\n",
       "    </tr>\n",
       "  </tbody>\n",
       "</table>\n",
       "</div>"
      ],
      "text/plain": [
       "     t1    t2 label          cog\n",
       "0  0.28  0.35     t  2457.509169\n",
       "1  0.72  0.84     s          NaN\n",
       "2  0.90  0.99     t  3380.582391"
      ]
     },
     "execution_count": 8,
     "metadata": {},
     "output_type": "execute_result"
    }
   ],
   "source": [
    "phdf = phdf.assign(cog=meas)\n",
    "phdf"
   ]
  }
 ],
 "metadata": {
  "kernelspec": {
   "display_name": "Python 3",
   "language": "python",
   "name": "python3"
  },
  "language_info": {
   "codemirror_mode": {
    "name": "ipython",
    "version": 3
   },
   "file_extension": ".py",
   "mimetype": "text/x-python",
   "name": "python",
   "nbconvert_exporter": "python",
   "pygments_lexer": "ipython3",
   "version": "3.7.2"
  }
 },
 "nbformat": 4,
 "nbformat_minor": 2
}
